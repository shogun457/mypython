{
 "cells": [
  {
   "cell_type": "code",
   "execution_count": 29,
   "metadata": {},
   "outputs": [
    {
     "name": "stdout",
     "output_type": "stream",
     "text": [
      "ยศภัทร 10000.0 41.0\n"
     ]
    }
   ],
   "source": [
    "def z(ชื่อ , เงินเดือน + ล่วงเวลา ):\n",
    "    ot = 0\n",
    "    \n",
    "    if(ot>=40):\n",
    "         money_ot=ot*150\n",
    "    else:\n",
    "        money_ot =ot*100\n",
    "    print (ชื่อ, เงินเดือน, ล่วงเวลา)\n",
    "\n",
    "n = input(\"รับค่าชื่อพนักงาน n: \")\n",
    "b = (input(\"รับค่าเงินเดือน b: \"))\n",
    "c = (input(\"รับค่าล่วงเวลา c: \"))\n",
    "z(n, b, c)\n"
   ]
  }
 ],
 "metadata": {
  "kernelspec": {
   "display_name": "Python 3",
   "language": "python",
   "name": "python3"
  },
  "language_info": {
   "codemirror_mode": {
    "name": "ipython",
    "version": 3
   },
   "file_extension": ".py",
   "mimetype": "text/x-python",
   "name": "python",
   "nbconvert_exporter": "python",
   "pygments_lexer": "ipython3",
   "version": "3.12.4"
  }
 },
 "nbformat": 4,
 "nbformat_minor": 2
}
